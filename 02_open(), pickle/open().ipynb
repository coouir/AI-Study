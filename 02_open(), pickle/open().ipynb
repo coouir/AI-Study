{
 "cells": [
  {
   "metadata": {},
   "cell_type": "markdown",
   "source": "## 파일 저장하기",
   "id": "6eea02d040008da7"
  },
  {
   "cell_type": "code",
   "id": "initial_id",
   "metadata": {
    "collapsed": true,
    "ExecuteTime": {
     "end_time": "2025-07-24T04:08:14.973429Z",
     "start_time": "2025-07-24T04:08:14.970560Z"
    }
   },
   "source": [
    "# file = open('파일명', '파일모드', encoding='인코딩 방식')\n",
    "# file.write('문자열')\n",
    "# file.close()\n",
    "\n",
    "file = open('i love python.txt', 'w', encoding='utf-8')\n",
    "file.write('Hello world!\\n')\n",
    "file.write('Welcome to Python\\n')\n",
    "file.close()"
   ],
   "outputs": [],
   "execution_count": 4
  },
  {
   "metadata": {},
   "cell_type": "markdown",
   "source": "## 파일 불러오기",
   "id": "8cf05042514c63cb"
  },
  {
   "metadata": {
    "ExecuteTime": {
     "end_time": "2025-07-24T04:09:17.750277Z",
     "start_time": "2025-07-24T04:09:17.747333Z"
    }
   },
   "cell_type": "code",
   "source": [
    "file = open('i love python.txt', 'r', encoding='utf-8')\n",
    "data = file.read()\n",
    "print(data)\n",
    "file.close()"
   ],
   "id": "539923629a27337b",
   "outputs": [
    {
     "name": "stdout",
     "output_type": "stream",
     "text": [
      "Hello world!\n",
      "Welcome to Python\n",
      "\n"
     ]
    }
   ],
   "execution_count": 5
  },
  {
   "metadata": {
    "ExecuteTime": {
     "end_time": "2025-07-24T04:12:10.972645Z",
     "start_time": "2025-07-24T04:12:10.968999Z"
    }
   },
   "cell_type": "code",
   "source": [
    "with open('i love python.txt', 'r', encoding='utf-8') as file:\n",
    "    data = file.read()\n",
    "    print(data)"
   ],
   "id": "ccfd4797dcd7fe89",
   "outputs": [
    {
     "name": "stdout",
     "output_type": "stream",
     "text": [
      "Hello world!\n",
      "Welcome to Python\n",
      "\n"
     ]
    }
   ],
   "execution_count": 6
  },
  {
   "metadata": {},
   "cell_type": "code",
   "outputs": [],
   "execution_count": null,
   "source": "",
   "id": "38b8cf303c41517f"
  }
 ],
 "metadata": {
  "kernelspec": {
   "display_name": "Python 3",
   "language": "python",
   "name": "python3"
  },
  "language_info": {
   "codemirror_mode": {
    "name": "ipython",
    "version": 2
   },
   "file_extension": ".py",
   "mimetype": "text/x-python",
   "name": "python",
   "nbconvert_exporter": "python",
   "pygments_lexer": "ipython2",
   "version": "2.7.6"
  }
 },
 "nbformat": 4,
 "nbformat_minor": 5
}
