{
 "cells": [
  {
   "metadata": {},
   "cell_type": "markdown",
   "source": [
    "## pickle\n",
    "* 객체를 저장/불러오는 모듈"
   ],
   "id": "cf3642ecaac75e63"
  },
  {
   "cell_type": "code",
   "id": "initial_id",
   "metadata": {
    "collapsed": true,
    "ExecuteTime": {
     "end_time": "2025-07-24T04:27:24.385920Z",
     "start_time": "2025-07-24T04:27:24.379885Z"
    }
   },
   "source": [
    "# import pickle\n",
    "#\n",
    "# with open('파일명', '파일모드') as file:\n",
    "#     pickle.dump(데이터 변수, file)\n",
    "\n",
    "import pickle\n",
    "\n",
    "dir = 'c:/windows/tmp'\n",
    "ver = '2.0'\n",
    "file_load = 'c:/program/en/en.exe'\n",
    "user = {'hi':1.0, 'hello':2.0}\n",
    "\n",
    "with open('dir.bin', 'wb') as file:\n",
    "    pickle.dump(dir, file)\n",
    "    pickle.dump(ver, file)\n",
    "    pickle.dump(file_load, file)\n",
    "    pickle.dump(user, file)"
   ],
   "outputs": [],
   "execution_count": 2
  },
  {
   "metadata": {
    "ExecuteTime": {
     "end_time": "2025-07-24T04:28:14.084625Z",
     "start_time": "2025-07-24T04:28:14.081135Z"
    }
   },
   "cell_type": "code",
   "source": [
    "with open('dir.bin', 'rb') as file:\n",
    "    p1 = pickle.load(file)\n",
    "    p2 = pickle.load(file)\n",
    "    p3 = pickle.load(file)\n",
    "    p4 = pickle.load(file)\n",
    "\n",
    "print(p1)\n",
    "print(p2)\n",
    "print(p3)\n",
    "print(p4)"
   ],
   "id": "4bb84769d2bf35de",
   "outputs": [
    {
     "name": "stdout",
     "output_type": "stream",
     "text": [
      "c:/windows/tmp\n",
      "2.0\n",
      "c:/program/en/en.exe\n",
      "{'hi': 1.0, 'hello': 2.0}\n"
     ]
    }
   ],
   "execution_count": 5
  }
 ],
 "metadata": {
  "kernelspec": {
   "display_name": "Python 3",
   "language": "python",
   "name": "python3"
  },
  "language_info": {
   "codemirror_mode": {
    "name": "ipython",
    "version": 2
   },
   "file_extension": ".py",
   "mimetype": "text/x-python",
   "name": "python",
   "nbconvert_exporter": "python",
   "pygments_lexer": "ipython2",
   "version": "2.7.6"
  }
 },
 "nbformat": 4,
 "nbformat_minor": 5
}
