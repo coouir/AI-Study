{
 "cells": [
  {
   "metadata": {},
   "cell_type": "markdown",
   "source": [
    "# PyTorch의 구성요소\n",
    "* torch: Tensor를 생성\n",
    "* torch.autograd: 자동 미분 기능\n",
    "* torch.nn: 신경망 생성\n",
    "* torch.multiprocessing: 병렬처리 가능"
   ],
   "id": "b3e6f895e23829a2"
  },
  {
   "metadata": {},
   "cell_type": "markdown",
   "source": [
    "## torch.Tensor 만들기\n",
    "* torch.empty: 값이 저장된 상태를 보여줌\n",
    "* torch.zeros: 값이 0으로 초기화 된 것을 보여줌\n",
    "* torch.rand(): 0~1사이의 숫자 중, 랜덤으로 지정"
   ],
   "id": "891f866911ef95a0"
  },
  {
   "cell_type": "code",
   "id": "initial_id",
   "metadata": {
    "collapsed": true,
    "ExecuteTime": {
     "end_time": "2025-07-25T04:11:23.391093Z",
     "start_time": "2025-07-25T04:11:22.838901Z"
    }
   },
   "source": [
    "import torch\n",
    "\n",
    "x = torch.empty(3)\n",
    "print(x)"
   ],
   "outputs": [
    {
     "name": "stdout",
     "output_type": "stream",
     "text": [
      "tensor([0., 0., 0.])\n"
     ]
    }
   ],
   "execution_count": 2
  },
  {
   "metadata": {
    "ExecuteTime": {
     "end_time": "2025-07-25T04:13:15.791349Z",
     "start_time": "2025-07-25T04:13:15.787622Z"
    }
   },
   "cell_type": "code",
   "source": [
    "\n",
    "x = torch.rand(2, 4)\n",
    "print(x)"
   ],
   "id": "814c896b6185d2af",
   "outputs": [
    {
     "name": "stdout",
     "output_type": "stream",
     "text": [
      "tensor([[0.4063, 0.7747, 0.5049, 0.5344],\n",
      "        [0.8644, 0.1687, 0.4077, 0.1318]])\n"
     ]
    }
   ],
   "execution_count": 5
  },
  {
   "metadata": {
    "ExecuteTime": {
     "end_time": "2025-07-25T04:14:16.003746Z",
     "start_time": "2025-07-25T04:14:16.000909Z"
    }
   },
   "cell_type": "code",
   "source": [
    "y = torch.zeros(2, 4, dtype=torch.long)\n",
    "print(y)"
   ],
   "id": "53985bfd4088ed78",
   "outputs": [
    {
     "name": "stdout",
     "output_type": "stream",
     "text": [
      "tensor([[0, 0, 0, 0],\n",
      "        [0, 0, 0, 0]])\n"
     ]
    }
   ],
   "execution_count": 6
  },
  {
   "metadata": {
    "ExecuteTime": {
     "end_time": "2025-07-25T04:16:21.503641Z",
     "start_time": "2025-07-25T04:16:21.501514Z"
    }
   },
   "cell_type": "code",
   "source": [
    "z = torch.tensor([[2, 3, 4], [5, 1, 2]])\n",
    "print(z)"
   ],
   "id": "61d10dd21658ed6e",
   "outputs": [
    {
     "name": "stdout",
     "output_type": "stream",
     "text": [
      "tensor([[2, 3, 4],\n",
      "        [5, 1, 2]])\n"
     ]
    }
   ],
   "execution_count": 7
  },
  {
   "metadata": {
    "ExecuteTime": {
     "end_time": "2025-07-25T04:17:49.290347Z",
     "start_time": "2025-07-25T04:17:49.287800Z"
    }
   },
   "cell_type": "code",
   "source": [
    "# 주어진 값과 똑같은 모양으로 출력\n",
    "# 단, 값들은 랜덤하게 저장\n",
    "y = torch.randn_like(x, dtype=torch.float)\n",
    "print(y)\n",
    "print(x)"
   ],
   "id": "2674edab0b2ee059",
   "outputs": [
    {
     "name": "stdout",
     "output_type": "stream",
     "text": [
      "tensor([[-0.8306, -1.6305,  0.1078,  0.9075],\n",
      "        [ 0.5987, -1.6085,  1.7917, -0.0118]])\n",
      "tensor([[0.4063, 0.7747, 0.5049, 0.5344],\n",
      "        [0.8644, 0.1687, 0.4077, 0.1318]])\n"
     ]
    }
   ],
   "execution_count": 9
  },
  {
   "metadata": {
    "ExecuteTime": {
     "end_time": "2025-07-25T04:19:49.500259Z",
     "start_time": "2025-07-25T04:19:49.495827Z"
    }
   },
   "cell_type": "code",
   "source": [
    "print(z)\n",
    "print(z.new_ones(1, 3, dtype=torch.double))"
   ],
   "id": "7f24cd54a8018e02",
   "outputs": [
    {
     "name": "stdout",
     "output_type": "stream",
     "text": [
      "tensor([[2, 3, 4],\n",
      "        [5, 1, 2]])\n",
      "tensor([[1., 1., 1.]], dtype=torch.float64)\n",
      "tensor([[2, 3, 4],\n",
      "        [5, 1, 2]])\n"
     ]
    }
   ],
   "execution_count": 12
  },
  {
   "metadata": {},
   "cell_type": "markdown",
   "source": "## torch.Tensor 조작하기",
   "id": "78289261393fafa7"
  },
  {
   "metadata": {
    "ExecuteTime": {
     "end_time": "2025-07-25T04:23:21.480874Z",
     "start_time": "2025-07-25T04:23:21.477974Z"
    }
   },
   "cell_type": "code",
   "source": [
    "print(x)\n",
    "print(x.size())"
   ],
   "id": "5e0ac034188dd254",
   "outputs": [
    {
     "name": "stdout",
     "output_type": "stream",
     "text": [
      "tensor([[0.4063, 0.7747, 0.5049, 0.5344],\n",
      "        [0.8644, 0.1687, 0.4077, 0.1318]])\n",
      "torch.Size([2, 4])\n"
     ]
    }
   ],
   "execution_count": 16
  },
  {
   "metadata": {
    "ExecuteTime": {
     "end_time": "2025-07-25T04:26:38.779921Z",
     "start_time": "2025-07-25T04:26:38.776273Z"
    }
   },
   "cell_type": "code",
   "source": [
    "# view를 사용해서 Tensor의 차원 변경 기능\n",
    "x = torch.randn(4, 5)\n",
    "y = x.view(20)\n",
    "z = x.view(5, -1)\n",
    "\n",
    "print(x.size())\n",
    "print(y.size())\n",
    "print(z.size())"
   ],
   "id": "4fcb3ba030a24eda",
   "outputs": [
    {
     "name": "stdout",
     "output_type": "stream",
     "text": [
      "torch.Size([4, 5])\n",
      "torch.Size([20])\n",
      "torch.Size([5, 4])\n"
     ]
    }
   ],
   "execution_count": 18
  },
  {
   "metadata": {
    "ExecuteTime": {
     "end_time": "2025-07-25T04:26:54.310517Z",
     "start_time": "2025-07-25T04:26:54.307393Z"
    }
   },
   "cell_type": "code",
   "source": [
    "print(x)\n",
    "print(x.dtype)"
   ],
   "id": "2190da9961e26b9c",
   "outputs": [
    {
     "name": "stdout",
     "output_type": "stream",
     "text": [
      "tensor([[-0.1347, -0.5035, -0.8150,  0.1879, -0.3867],\n",
      "        [ 0.3670, -0.5448, -0.7411, -2.6504,  0.1852],\n",
      "        [-0.3172,  2.3775,  0.8065,  2.6391,  0.1513],\n",
      "        [-0.0320, -0.0627, -1.1219,  0.6784,  1.3605]])\n",
      "torch.float32\n"
     ]
    }
   ],
   "execution_count": 20
  },
  {
   "metadata": {
    "ExecuteTime": {
     "end_time": "2025-07-25T04:28:54.046674Z",
     "start_time": "2025-07-25T04:28:54.041781Z"
    }
   },
   "cell_type": "code",
   "source": [
    "print(x)\n",
    "print(x[0, 0]) # 숫자가 아닌, Tensor클래스의 객체가 출력\n",
    "print(x[1, 1])\n",
    "print(x[0, 0].item())"
   ],
   "id": "63d1daa6b94d7dd",
   "outputs": [
    {
     "name": "stdout",
     "output_type": "stream",
     "text": [
      "tensor([[-0.1347, -0.5035, -0.8150,  0.1879, -0.3867],\n",
      "        [ 0.3670, -0.5448, -0.7411, -2.6504,  0.1852],\n",
      "        [-0.3172,  2.3775,  0.8065,  2.6391,  0.1513],\n",
      "        [-0.0320, -0.0627, -1.1219,  0.6784,  1.3605]])\n",
      "tensor(-0.1347)\n",
      "tensor(-0.5448)\n",
      "-0.1346590369939804\n"
     ]
    }
   ],
   "execution_count": 23
  },
  {
   "metadata": {
    "ExecuteTime": {
     "end_time": "2025-07-25T04:29:49.272486Z",
     "start_time": "2025-07-25T04:29:49.267303Z"
    }
   },
   "cell_type": "code",
   "source": [
    "print(x[:, 1])\n",
    "print(x[1, :])\n",
    "print(x[0:2])\n",
    "print(x[:,0:2])"
   ],
   "id": "20c344649e2e2e4b",
   "outputs": [
    {
     "name": "stdout",
     "output_type": "stream",
     "text": [
      "tensor([-0.5035, -0.5448,  2.3775, -0.0627])\n",
      "tensor([ 0.3670, -0.5448, -0.7411, -2.6504,  0.1852])\n",
      "tensor([[-0.1347, -0.5035, -0.8150,  0.1879, -0.3867],\n",
      "        [ 0.3670, -0.5448, -0.7411, -2.6504,  0.1852]])\n",
      "tensor([[-0.1347, -0.5035],\n",
      "        [ 0.3670, -0.5448],\n",
      "        [-0.3172,  2.3775],\n",
      "        [-0.0320, -0.0627]])\n"
     ]
    }
   ],
   "execution_count": 26
  },
  {
   "metadata": {},
   "cell_type": "markdown",
   "source": "## torch.Tensor 연산하기",
   "id": "f2012aade1031958"
  },
  {
   "metadata": {
    "ExecuteTime": {
     "end_time": "2025-07-25T04:31:33.718155Z",
     "start_time": "2025-07-25T04:31:33.714011Z"
    }
   },
   "cell_type": "code",
   "source": [
    "print(x)\n",
    "print(x+1)\n",
    "print(x*2)\n",
    "print(x/2)"
   ],
   "id": "7f107f1db843b640",
   "outputs": [
    {
     "name": "stdout",
     "output_type": "stream",
     "text": [
      "tensor([[-0.1347, -0.5035, -0.8150,  0.1879, -0.3867],\n",
      "        [ 0.3670, -0.5448, -0.7411, -2.6504,  0.1852],\n",
      "        [-0.3172,  2.3775,  0.8065,  2.6391,  0.1513],\n",
      "        [-0.0320, -0.0627, -1.1219,  0.6784,  1.3605]])\n",
      "tensor([[ 0.8653,  0.4965,  0.1850,  1.1879,  0.6133],\n",
      "        [ 1.3670,  0.4552,  0.2589, -1.6504,  1.1852],\n",
      "        [ 0.6828,  3.3775,  1.8065,  3.6391,  1.1513],\n",
      "        [ 0.9680,  0.9373, -0.1219,  1.6784,  2.3605]])\n",
      "tensor([[-0.2693, -1.0070, -1.6301,  0.3758, -0.7734],\n",
      "        [ 0.7341, -1.0895, -1.4822, -5.3007,  0.3704],\n",
      "        [-0.6345,  4.7550,  1.6130,  5.2782,  0.3025],\n",
      "        [-0.0641, -0.1255, -2.2438,  1.3567,  2.7210]])\n",
      "tensor([[-0.0673, -0.2517, -0.4075,  0.0940, -0.1934],\n",
      "        [ 0.1835, -0.2724, -0.3706, -1.3252,  0.0926],\n",
      "        [-0.1586,  1.1888,  0.4032,  1.3196,  0.0756],\n",
      "        [-0.0160, -0.0314, -0.5609,  0.3392,  0.6802]])\n"
     ]
    }
   ],
   "execution_count": 28
  },
  {
   "metadata": {},
   "cell_type": "markdown",
   "source": "### Matrix Multiplication",
   "id": "8f2ac362fd9fa263"
  },
  {
   "metadata": {
    "ExecuteTime": {
     "end_time": "2025-07-25T04:34:08.496819Z",
     "start_time": "2025-07-25T04:34:08.493722Z"
    }
   },
   "cell_type": "code",
   "source": [
    "x = torch.randn(2, 4)\n",
    "y = torch.randn(2, 4)\n",
    "print(x)\n",
    "print(y)"
   ],
   "id": "9b6fb4000e8d09ca",
   "outputs": [
    {
     "name": "stdout",
     "output_type": "stream",
     "text": [
      "tensor([[-0.6996,  0.0800,  0.2717,  0.7361],\n",
      "        [ 1.7452, -0.0989,  0.5218,  0.9180]])\n",
      "tensor([[ 0.9020,  0.3617,  0.0980, -0.5431],\n",
      "        [ 1.7903,  0.1090,  0.9525,  1.5028]])\n"
     ]
    }
   ],
   "execution_count": 34
  },
  {
   "metadata": {
    "ExecuteTime": {
     "end_time": "2025-07-25T04:34:09.054898Z",
     "start_time": "2025-07-25T04:34:09.045458Z"
    }
   },
   "cell_type": "code",
   "source": "print(torch.mm(x, y))",
   "id": "9b57c94ea6915ac",
   "outputs": [
    {
     "ename": "RuntimeError",
     "evalue": "mat1 and mat2 shapes cannot be multiplied (2x4 and 2x4)",
     "output_type": "error",
     "traceback": [
      "\u001B[0;31m---------------------------------------------------------------------------\u001B[0m",
      "\u001B[0;31mRuntimeError\u001B[0m                              Traceback (most recent call last)",
      "Cell \u001B[0;32mIn[35], line 1\u001B[0m\n\u001B[0;32m----> 1\u001B[0m \u001B[38;5;28mprint\u001B[39m(torch\u001B[38;5;241m.\u001B[39mmm(x, y))\n",
      "\u001B[0;31mRuntimeError\u001B[0m: mat1 and mat2 shapes cannot be multiplied (2x4 and 2x4)"
     ]
    }
   ],
   "execution_count": 35
  },
  {
   "metadata": {
    "ExecuteTime": {
     "end_time": "2025-07-25T04:34:22.672169Z",
     "start_time": "2025-07-25T04:34:22.668839Z"
    }
   },
   "cell_type": "code",
   "source": "print(torch.mm(x, y.T))",
   "id": "14c993f1487152ec",
   "outputs": [
    {
     "name": "stdout",
     "output_type": "stream",
     "text": [
      "tensor([[-0.9753,  0.1211],\n",
      "        [ 1.0909,  4.9903]])\n"
     ]
    }
   ],
   "execution_count": 36
  },
  {
   "metadata": {},
   "cell_type": "markdown",
   "source": "## torch <-> numpy",
   "id": "4a451cd5a5ab151c"
  },
  {
   "metadata": {
    "ExecuteTime": {
     "end_time": "2025-07-25T04:36:37.448332Z",
     "start_time": "2025-07-25T04:36:37.444971Z"
    }
   },
   "cell_type": "code",
   "source": [
    "x = torch.ones(7)\n",
    "y = x.numpy()\n",
    "\n",
    "print(x) # PyTorch의 Tensor클래스 객체\n",
    "print(y) # NumPy의 Ndarray 객체"
   ],
   "id": "525ee819007d78e3",
   "outputs": [
    {
     "name": "stdout",
     "output_type": "stream",
     "text": [
      "tensor([1., 1., 1., 1., 1., 1., 1.])\n",
      "[1. 1. 1. 1. 1. 1. 1.]\n"
     ]
    }
   ],
   "execution_count": 37
  },
  {
   "metadata": {
    "ExecuteTime": {
     "end_time": "2025-07-25T04:38:27.706263Z",
     "start_time": "2025-07-25T04:38:27.704269Z"
    }
   },
   "cell_type": "code",
   "source": [
    "import numpy as np\n",
    "\n",
    "z = np.arange(12).reshape(4, 3)\n",
    "print(z)"
   ],
   "id": "b3d2e569fde9922",
   "outputs": [
    {
     "name": "stdout",
     "output_type": "stream",
     "text": [
      "[[ 0  1  2]\n",
      " [ 3  4  5]\n",
      " [ 6  7  8]\n",
      " [ 9 10 11]]\n"
     ]
    }
   ],
   "execution_count": 40
  },
  {
   "metadata": {
    "ExecuteTime": {
     "end_time": "2025-07-25T04:38:43.311865Z",
     "start_time": "2025-07-25T04:38:43.309781Z"
    }
   },
   "cell_type": "code",
   "source": [
    "q = torch.from_numpy(z)\n",
    "print(q)"
   ],
   "id": "9bf4bf8a3c7799ac",
   "outputs": [
    {
     "name": "stdout",
     "output_type": "stream",
     "text": [
      "tensor([[ 0,  1,  2],\n",
      "        [ 3,  4,  5],\n",
      "        [ 6,  7,  8],\n",
      "        [ 9, 10, 11]])\n"
     ]
    }
   ],
   "execution_count": 42
  }
 ],
 "metadata": {
  "kernelspec": {
   "display_name": "Python 3",
   "language": "python",
   "name": "python3"
  },
  "language_info": {
   "codemirror_mode": {
    "name": "ipython",
    "version": 2
   },
   "file_extension": ".py",
   "mimetype": "text/x-python",
   "name": "python",
   "nbconvert_exporter": "python",
   "pygments_lexer": "ipython2",
   "version": "2.7.6"
  }
 },
 "nbformat": 4,
 "nbformat_minor": 5
}
