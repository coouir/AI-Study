{
 "cells": [
  {
   "metadata": {},
   "cell_type": "markdown",
   "source": [
    "# AUTOGRAD\n",
    "* AUTO: 자동\n",
    "* GRAD: Gradient(미분)\n",
    "* 자동미분의 조건 = 입력값부터 출력값까지 모두 tensor로 연결"
   ],
   "id": "38f4e62b446b027"
  },
  {
   "cell_type": "code",
   "id": "initial_id",
   "metadata": {
    "collapsed": true,
    "ExecuteTime": {
     "end_time": "2025-07-25T04:51:36.059653Z",
     "start_time": "2025-07-25T04:51:36.055488Z"
    }
   },
   "source": [
    "import torch\n",
    "\n",
    "a = torch.tensor(3, dtype=torch.float, requires_grad=True)\n",
    "b = torch.tensor(4, dtype=torch.float, requires_grad=True)\n",
    "# requires_grad를 true(참)로 입력\n",
    "\n",
    "c = a*b\n",
    "print(c)\n",
    "\n",
    "c.backward() # 자동미분\n",
    "print(a.grad)\n",
    "print(b.grad)"
   ],
   "outputs": [
    {
     "name": "stdout",
     "output_type": "stream",
     "text": [
      "tensor(12., grad_fn=<MulBackward0>)\n",
      "tensor(4.)\n",
      "tensor(3.)\n"
     ]
    }
   ],
   "execution_count": 7
  }
 ],
 "metadata": {
  "kernelspec": {
   "display_name": "Python 3",
   "language": "python",
   "name": "python3"
  },
  "language_info": {
   "codemirror_mode": {
    "name": "ipython",
    "version": 2
   },
   "file_extension": ".py",
   "mimetype": "text/x-python",
   "name": "python",
   "nbconvert_exporter": "python",
   "pygments_lexer": "ipython2",
   "version": "2.7.6"
  }
 },
 "nbformat": 4,
 "nbformat_minor": 5
}
