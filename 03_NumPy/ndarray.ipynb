{
 "cells": [
  {
   "cell_type": "code",
   "id": "initial_id",
   "metadata": {
    "collapsed": true,
    "ExecuteTime": {
     "end_time": "2025-07-24T05:00:12.844088Z",
     "start_time": "2025-07-24T05:00:12.773432Z"
    }
   },
   "source": [
    "import numpy as np\n",
    "\n",
    "a = np.array([1, 2, 3, 4, 5])\n",
    "type(a)"
   ],
   "outputs": [
    {
     "data": {
      "text/plain": [
       "numpy.ndarray"
      ]
     },
     "execution_count": 1,
     "metadata": {},
     "output_type": "execute_result"
    }
   ],
   "execution_count": 1
  },
  {
   "metadata": {
    "ExecuteTime": {
     "end_time": "2025-07-24T05:02:21.760128Z",
     "start_time": "2025-07-24T05:02:21.755202Z"
    }
   },
   "cell_type": "code",
   "source": [
    "a = np.array([1, 2, 3, 4, 5])\n",
    "b = np.array([1, 2, 3, 4, 5])\n",
    "\n",
    "print(a + b)"
   ],
   "id": "ae5024f95b2eeb05",
   "outputs": [
    {
     "name": "stdout",
     "output_type": "stream",
     "text": [
      "[ 2  4  6  8 10]\n"
     ]
    }
   ],
   "execution_count": 2
  },
  {
   "metadata": {},
   "cell_type": "markdown",
   "source": "## Indexing and dtype",
   "id": "8aef77d843f32fe0"
  },
  {
   "metadata": {
    "ExecuteTime": {
     "end_time": "2025-07-24T05:04:16.769315Z",
     "start_time": "2025-07-24T05:04:16.766947Z"
    }
   },
   "cell_type": "code",
   "source": "a[0]",
   "id": "3350b53e8119c31a",
   "outputs": [
    {
     "data": {
      "text/plain": [
       "np.int64(1)"
      ]
     },
     "execution_count": 3,
     "metadata": {},
     "output_type": "execute_result"
    }
   ],
   "execution_count": 3
  },
  {
   "metadata": {
    "ExecuteTime": {
     "end_time": "2025-07-24T05:04:18.437683Z",
     "start_time": "2025-07-24T05:04:18.435343Z"
    }
   },
   "cell_type": "code",
   "source": "a[1]",
   "id": "5a0f43e7cd2073ee",
   "outputs": [
    {
     "data": {
      "text/plain": [
       "np.int64(2)"
      ]
     },
     "execution_count": 4,
     "metadata": {},
     "output_type": "execute_result"
    }
   ],
   "execution_count": 4
  },
  {
   "metadata": {
    "ExecuteTime": {
     "end_time": "2025-07-24T05:04:34.049341Z",
     "start_time": "2025-07-24T05:04:34.046678Z"
    }
   },
   "cell_type": "code",
   "source": [
    "a[0] = 10\n",
    "a"
   ],
   "id": "f96fc61fe5a2c488",
   "outputs": [
    {
     "data": {
      "text/plain": [
       "array([10,  2,  3,  4,  5])"
      ]
     },
     "execution_count": 6,
     "metadata": {},
     "output_type": "execute_result"
    }
   ],
   "execution_count": 6
  },
  {
   "metadata": {
    "ExecuteTime": {
     "end_time": "2025-07-24T05:04:46.841256Z",
     "start_time": "2025-07-24T05:04:46.838704Z"
    }
   },
   "cell_type": "code",
   "source": "a.dtype",
   "id": "6fcda308852c636d",
   "outputs": [
    {
     "data": {
      "text/plain": [
       "dtype('int64')"
      ]
     },
     "execution_count": 7,
     "metadata": {},
     "output_type": "execute_result"
    }
   ],
   "execution_count": 7
  },
  {
   "metadata": {
    "ExecuteTime": {
     "end_time": "2025-07-24T05:05:28.867973Z",
     "start_time": "2025-07-24T05:05:28.864418Z"
    }
   },
   "cell_type": "code",
   "source": [
    "a[0] = 10.6\n",
    "a"
   ],
   "id": "e3196088a50fc88c",
   "outputs": [
    {
     "data": {
      "text/plain": [
       "array([10,  2,  3,  4,  5])"
      ]
     },
     "execution_count": 10,
     "metadata": {},
     "output_type": "execute_result"
    }
   ],
   "execution_count": 10
  },
  {
   "metadata": {
    "ExecuteTime": {
     "end_time": "2025-07-24T05:05:51.580817Z",
     "start_time": "2025-07-24T05:05:51.577913Z"
    }
   },
   "cell_type": "code",
   "source": [
    "a.fill(-4.8)\n",
    "a"
   ],
   "id": "2b10a93b107e638e",
   "outputs": [
    {
     "data": {
      "text/plain": [
       "array([-4, -4, -4, -4, -4])"
      ]
     },
     "execution_count": 13,
     "metadata": {},
     "output_type": "execute_result"
    }
   ],
   "execution_count": 13
  },
  {
   "metadata": {},
   "cell_type": "markdown",
   "source": "## 2d ndarray",
   "id": "f424a62f1748b153"
  },
  {
   "metadata": {
    "ExecuteTime": {
     "end_time": "2025-07-24T05:06:50.199744Z",
     "start_time": "2025-07-24T05:06:50.195230Z"
    }
   },
   "cell_type": "code",
   "source": [
    "a = np.array([[1, 2, 3, 4], [5, 6, 7, 8]])\n",
    "a"
   ],
   "id": "d7ec2586b2ce5bd6",
   "outputs": [
    {
     "data": {
      "text/plain": [
       "array([[1, 2, 3, 4],\n",
       "       [5, 6, 7, 8]])"
      ]
     },
     "execution_count": 14,
     "metadata": {},
     "output_type": "execute_result"
    }
   ],
   "execution_count": 14
  },
  {
   "metadata": {},
   "cell_type": "markdown",
   "source": "### shape: 배열의 형태를 튜플로 반환",
   "id": "d386fcfa542ae84f"
  },
  {
   "metadata": {
    "ExecuteTime": {
     "end_time": "2025-07-24T05:07:06.573160Z",
     "start_time": "2025-07-24T05:07:06.570836Z"
    }
   },
   "cell_type": "code",
   "source": "a.shape",
   "id": "33b39375ca1d7027",
   "outputs": [
    {
     "data": {
      "text/plain": [
       "(2, 4)"
      ]
     },
     "execution_count": 15,
     "metadata": {},
     "output_type": "execute_result"
    }
   ],
   "execution_count": 15
  },
  {
   "metadata": {},
   "cell_type": "markdown",
   "source": "### size: 전체 원소의 개수",
   "id": "8de2cb923d3f7fc1"
  },
  {
   "metadata": {
    "ExecuteTime": {
     "end_time": "2025-07-24T05:08:10.212129Z",
     "start_time": "2025-07-24T05:08:10.208570Z"
    }
   },
   "cell_type": "code",
   "source": "a.size",
   "id": "b6bb4a873f3ac261",
   "outputs": [
    {
     "data": {
      "text/plain": [
       "8"
      ]
     },
     "execution_count": 16,
     "metadata": {},
     "output_type": "execute_result"
    }
   ],
   "execution_count": 16
  },
  {
   "metadata": {},
   "cell_type": "markdown",
   "source": "### ndim: 배열의 차원",
   "id": "74ed44a70ab8e487"
  },
  {
   "metadata": {
    "ExecuteTime": {
     "end_time": "2025-07-24T05:08:21.377579Z",
     "start_time": "2025-07-24T05:08:21.374753Z"
    }
   },
   "cell_type": "code",
   "source": "a.ndim",
   "id": "dd24a9f65b61fdef",
   "outputs": [
    {
     "data": {
      "text/plain": [
       "2"
      ]
     },
     "execution_count": 17,
     "metadata": {},
     "output_type": "execute_result"
    }
   ],
   "execution_count": 17
  },
  {
   "metadata": {},
   "cell_type": "markdown",
   "source": "## Advanced Indexing",
   "id": "82f759c80ae8e6b9"
  },
  {
   "metadata": {
    "ExecuteTime": {
     "end_time": "2025-07-24T05:54:57.053762Z",
     "start_time": "2025-07-24T05:54:57.050310Z"
    }
   },
   "cell_type": "code",
   "source": [
    "a = np.arange(0, 80, 10)\n",
    "b = [1, 2, -3]\n",
    "a[b] = 100\n",
    "a"
   ],
   "id": "ef9a2643ccd86948",
   "outputs": [
    {
     "data": {
      "text/plain": [
       "array([  0, 100, 100,  30,  40, 100,  60,  70])"
      ]
     },
     "execution_count": 19,
     "metadata": {},
     "output_type": "execute_result"
    }
   ],
   "execution_count": 19
  },
  {
   "metadata": {
    "ExecuteTime": {
     "end_time": "2025-07-24T05:55:44.602991Z",
     "start_time": "2025-07-24T05:55:44.599458Z"
    }
   },
   "cell_type": "code",
   "source": [
    "a = np.arange(0, 80, 10)\n",
    "b = np.array([0, 1, 1, 0, 0, 1, 0, 0], dtype=bool)\n",
    "a[b]"
   ],
   "id": "dfa1e594b0a99d3",
   "outputs": [
    {
     "data": {
      "text/plain": [
       "array([10, 20, 50])"
      ]
     },
     "execution_count": 21,
     "metadata": {},
     "output_type": "execute_result"
    }
   ],
   "execution_count": 21
  }
 ],
 "metadata": {
  "kernelspec": {
   "display_name": "Python 3",
   "language": "python",
   "name": "python3"
  },
  "language_info": {
   "codemirror_mode": {
    "name": "ipython",
    "version": 2
   },
   "file_extension": ".py",
   "mimetype": "text/x-python",
   "name": "python",
   "nbconvert_exporter": "python",
   "pygments_lexer": "ipython2",
   "version": "2.7.6"
  }
 },
 "nbformat": 4,
 "nbformat_minor": 5
}
