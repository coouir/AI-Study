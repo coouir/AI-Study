{
 "cells": [
  {
   "metadata": {},
   "cell_type": "markdown",
   "source": "# ndarray multidimension",
   "id": "558f52e738ded7f"
  },
  {
   "metadata": {},
   "cell_type": "markdown",
   "source": "## 1차원",
   "id": "5373f0ffe471eea7"
  },
  {
   "cell_type": "code",
   "id": "initial_id",
   "metadata": {
    "collapsed": true,
    "ExecuteTime": {
     "end_time": "2025-07-24T06:09:49.657111Z",
     "start_time": "2025-07-24T06:09:49.651809Z"
    }
   },
   "source": [
    "import numpy as np\n",
    "\n",
    "a = np.arange(0, 40)"
   ],
   "outputs": [
    {
     "data": {
      "text/plain": [
       "array([ 0,  1,  2,  3,  4,  5,  6,  7,  8,  9, 10, 11, 12, 13, 14, 15, 16,\n",
       "       17, 18, 19, 20, 21, 22, 23, 24, 25, 26, 27, 28, 29, 30, 31, 32, 33,\n",
       "       34, 35, 36, 37, 38, 39])"
      ]
     },
     "execution_count": 2,
     "metadata": {},
     "output_type": "execute_result"
    }
   ],
   "execution_count": 2
  },
  {
   "metadata": {},
   "cell_type": "markdown",
   "source": [
    "## 2차원\n",
    "* reshape: 데이터 차원과 모양 변경"
   ],
   "id": "cbc74e4371970c35"
  },
  {
   "metadata": {
    "ExecuteTime": {
     "end_time": "2025-07-24T06:13:58.926322Z",
     "start_time": "2025-07-24T06:13:58.922387Z"
    }
   },
   "cell_type": "code",
   "source": [
    "b = a.reshape(2, 20)\n",
    "b"
   ],
   "id": "5210e59c5564f882",
   "outputs": [
    {
     "data": {
      "text/plain": [
       "array([[ 0,  1,  2,  3,  4,  5,  6,  7,  8,  9, 10, 11, 12, 13, 14, 15,\n",
       "        16, 17, 18, 19],\n",
       "       [20, 21, 22, 23, 24, 25, 26, 27, 28, 29, 30, 31, 32, 33, 34, 35,\n",
       "        36, 37, 38, 39]])"
      ]
     },
     "execution_count": 6,
     "metadata": {},
     "output_type": "execute_result"
    }
   ],
   "execution_count": 6
  },
  {
   "metadata": {},
   "cell_type": "markdown",
   "source": "## 3차원",
   "id": "15d266ba031c02cf"
  },
  {
   "metadata": {
    "ExecuteTime": {
     "end_time": "2025-07-24T06:13:55.337608Z",
     "start_time": "2025-07-24T06:13:55.333594Z"
    }
   },
   "cell_type": "code",
   "source": [
    "c = a.reshape(4, 2, 5)\n",
    "c"
   ],
   "id": "c2f7b30a3ba5d4d",
   "outputs": [
    {
     "data": {
      "text/plain": [
       "array([[[ 0,  1,  2,  3,  4],\n",
       "        [ 5,  6,  7,  8,  9]],\n",
       "\n",
       "       [[10, 11, 12, 13, 14],\n",
       "        [15, 16, 17, 18, 19]],\n",
       "\n",
       "       [[20, 21, 22, 23, 24],\n",
       "        [25, 26, 27, 28, 29]],\n",
       "\n",
       "       [[30, 31, 32, 33, 34],\n",
       "        [35, 36, 37, 38, 39]]])"
      ]
     },
     "execution_count": 5,
     "metadata": {},
     "output_type": "execute_result"
    }
   ],
   "execution_count": 5
  },
  {
   "metadata": {},
   "cell_type": "markdown",
   "source": "## 4차원",
   "id": "e3a25a70a326a201"
  },
  {
   "metadata": {
    "ExecuteTime": {
     "end_time": "2025-07-24T06:14:56.469305Z",
     "start_time": "2025-07-24T06:14:56.465223Z"
    }
   },
   "cell_type": "code",
   "source": [
    "d = a.reshape(2, 2, 2, 5)\n",
    "d"
   ],
   "id": "417734241c031ec8",
   "outputs": [
    {
     "data": {
      "text/plain": [
       "array([[[[ 0,  1,  2,  3,  4],\n",
       "         [ 5,  6,  7,  8,  9]],\n",
       "\n",
       "        [[10, 11, 12, 13, 14],\n",
       "         [15, 16, 17, 18, 19]]],\n",
       "\n",
       "\n",
       "       [[[20, 21, 22, 23, 24],\n",
       "         [25, 26, 27, 28, 29]],\n",
       "\n",
       "        [[30, 31, 32, 33, 34],\n",
       "         [35, 36, 37, 38, 39]]]])"
      ]
     },
     "execution_count": 9,
     "metadata": {},
     "output_type": "execute_result"
    }
   ],
   "execution_count": 9
  },
  {
   "metadata": {
    "ExecuteTime": {
     "end_time": "2025-07-24T06:15:26.501135Z",
     "start_time": "2025-07-24T06:15:26.498034Z"
    }
   },
   "cell_type": "code",
   "source": [
    "e = a.reshape(5, 2, 2, 2)\n",
    "e"
   ],
   "id": "2588642ae57e02f3",
   "outputs": [
    {
     "data": {
      "text/plain": [
       "array([[[[ 0,  1],\n",
       "         [ 2,  3]],\n",
       "\n",
       "        [[ 4,  5],\n",
       "         [ 6,  7]]],\n",
       "\n",
       "\n",
       "       [[[ 8,  9],\n",
       "         [10, 11]],\n",
       "\n",
       "        [[12, 13],\n",
       "         [14, 15]]],\n",
       "\n",
       "\n",
       "       [[[16, 17],\n",
       "         [18, 19]],\n",
       "\n",
       "        [[20, 21],\n",
       "         [22, 23]]],\n",
       "\n",
       "\n",
       "       [[[24, 25],\n",
       "         [26, 27]],\n",
       "\n",
       "        [[28, 29],\n",
       "         [30, 31]]],\n",
       "\n",
       "\n",
       "       [[[32, 33],\n",
       "         [34, 35]],\n",
       "\n",
       "        [[36, 37],\n",
       "         [38, 39]]]])"
      ]
     },
     "execution_count": 10,
     "metadata": {},
     "output_type": "execute_result"
    }
   ],
   "execution_count": 10
  },
  {
   "metadata": {},
   "cell_type": "markdown",
   "source": "# 연산\n",
   "id": "9cea2fe79c5ba5f1"
  },
  {
   "metadata": {
    "ExecuteTime": {
     "end_time": "2025-07-24T06:18:27.455884Z",
     "start_time": "2025-07-24T06:18:27.453371Z"
    }
   },
   "cell_type": "code",
   "source": [
    "a = np.array([[1, 2, 3], [4, 5, 6]])\n",
    "\n",
    "a.sum()"
   ],
   "id": "1cf770cbd7894da6",
   "outputs": [
    {
     "data": {
      "text/plain": [
       "np.int64(21)"
      ]
     },
     "execution_count": 11,
     "metadata": {},
     "output_type": "execute_result"
    }
   ],
   "execution_count": 11
  },
  {
   "metadata": {
    "ExecuteTime": {
     "end_time": "2025-07-24T06:18:54.826596Z",
     "start_time": "2025-07-24T06:18:54.821799Z"
    }
   },
   "cell_type": "code",
   "source": "a.sum(axis=0)",
   "id": "577bbddc37bf7f3d",
   "outputs": [
    {
     "data": {
      "text/plain": [
       "array([5, 7, 9])"
      ]
     },
     "execution_count": 12,
     "metadata": {},
     "output_type": "execute_result"
    }
   ],
   "execution_count": 12
  },
  {
   "metadata": {
    "ExecuteTime": {
     "end_time": "2025-07-24T06:19:11.393624Z",
     "start_time": "2025-07-24T06:19:11.389301Z"
    }
   },
   "cell_type": "code",
   "source": "a.sum(axis=1)",
   "id": "8da763abb77158b0",
   "outputs": [
    {
     "data": {
      "text/plain": [
       "array([ 6, 15])"
      ]
     },
     "execution_count": 13,
     "metadata": {},
     "output_type": "execute_result"
    }
   ],
   "execution_count": 13
  },
  {
   "metadata": {},
   "cell_type": "markdown",
   "source": [
    "* min: 최솟값\n",
    "* max: 최댓값\n",
    "* argmin/max: 최솟값/최댓값을 가진 원소의 인덱스"
   ],
   "id": "8743868974cb18b3"
  }
 ],
 "metadata": {
  "kernelspec": {
   "display_name": "Python 3",
   "language": "python",
   "name": "python3"
  },
  "language_info": {
   "codemirror_mode": {
    "name": "ipython",
    "version": 2
   },
   "file_extension": ".py",
   "mimetype": "text/x-python",
   "name": "python",
   "nbconvert_exporter": "python",
   "pygments_lexer": "ipython2",
   "version": "2.7.6"
  }
 },
 "nbformat": 4,
 "nbformat_minor": 5
}
