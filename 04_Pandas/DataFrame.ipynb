{
 "cells": [
  {
   "metadata": {},
   "cell_type": "markdown",
   "source": [
    "# 행/열 이름 바꾸기\n",
    "* 행 인덱스 변경: DataFrame 객체.index = 새로운 행 인덱스 배열\n",
    "* 열 이름 변경: DataFrame 객체.columns = 새로운 열 이름 배열"
   ],
   "id": "91c0859e0ee2313e"
  },
  {
   "cell_type": "code",
   "id": "initial_id",
   "metadata": {
    "collapsed": true,
    "ExecuteTime": {
     "end_time": "2025-07-24T08:40:06.234605Z",
     "start_time": "2025-07-24T08:40:06.230180Z"
    }
   },
   "source": [
    "import pandas as pd\n",
    "\n",
    "df = pd.DataFrame([[20, '남', 'A'], [21, '여', 'B'], [22, '남', 'C']], index=['a', 'b', 'c'], columns=['나이', '성별', '학교'])\n",
    "\n",
    "print(type(df))\n",
    "print(df)\n",
    "print(df.index)\n",
    "print(df.columns)"
   ],
   "outputs": [
    {
     "name": "stdout",
     "output_type": "stream",
     "text": [
      "<class 'pandas.core.frame.DataFrame'>\n",
      "   나이 성별 학교\n",
      "a  20  남  A\n",
      "b  21  여  B\n",
      "c  22  남  C\n",
      "Index(['a', 'b', 'c'], dtype='object')\n",
      "Index(['나이', '성별', '학교'], dtype='object')\n"
     ]
    }
   ],
   "execution_count": 5
  },
  {
   "metadata": {
    "ExecuteTime": {
     "end_time": "2025-07-24T08:40:06.251344Z",
     "start_time": "2025-07-24T08:40:06.248069Z"
    }
   },
   "cell_type": "code",
   "source": [
    "df.index = ['A', 'B', 'C']\n",
    "df"
   ],
   "id": "cd5d9357beca853c",
   "outputs": [
    {
     "data": {
      "text/plain": [
       "   나이 성별 학교\n",
       "A  20  남  A\n",
       "B  21  여  B\n",
       "C  22  남  C"
      ],
      "text/html": [
       "<div>\n",
       "<style scoped>\n",
       "    .dataframe tbody tr th:only-of-type {\n",
       "        vertical-align: middle;\n",
       "    }\n",
       "\n",
       "    .dataframe tbody tr th {\n",
       "        vertical-align: top;\n",
       "    }\n",
       "\n",
       "    .dataframe thead th {\n",
       "        text-align: right;\n",
       "    }\n",
       "</style>\n",
       "<table border=\"1\" class=\"dataframe\">\n",
       "  <thead>\n",
       "    <tr style=\"text-align: right;\">\n",
       "      <th></th>\n",
       "      <th>나이</th>\n",
       "      <th>성별</th>\n",
       "      <th>학교</th>\n",
       "    </tr>\n",
       "  </thead>\n",
       "  <tbody>\n",
       "    <tr>\n",
       "      <th>A</th>\n",
       "      <td>20</td>\n",
       "      <td>남</td>\n",
       "      <td>A</td>\n",
       "    </tr>\n",
       "    <tr>\n",
       "      <th>B</th>\n",
       "      <td>21</td>\n",
       "      <td>여</td>\n",
       "      <td>B</td>\n",
       "    </tr>\n",
       "    <tr>\n",
       "      <th>C</th>\n",
       "      <td>22</td>\n",
       "      <td>남</td>\n",
       "      <td>C</td>\n",
       "    </tr>\n",
       "  </tbody>\n",
       "</table>\n",
       "</div>"
      ]
     },
     "execution_count": 6,
     "metadata": {},
     "output_type": "execute_result"
    }
   ],
   "execution_count": 6
  },
  {
   "metadata": {
    "ExecuteTime": {
     "end_time": "2025-07-24T08:40:06.292101Z",
     "start_time": "2025-07-24T08:40:06.288753Z"
    }
   },
   "cell_type": "code",
   "source": [
    "df.columns = ['연령', '남녀', '소속']\n",
    "df"
   ],
   "id": "9246fee3c90a7cf8",
   "outputs": [
    {
     "data": {
      "text/plain": [
       "   연령 남녀 소속\n",
       "A  20  남  A\n",
       "B  21  여  B\n",
       "C  22  남  C"
      ],
      "text/html": [
       "<div>\n",
       "<style scoped>\n",
       "    .dataframe tbody tr th:only-of-type {\n",
       "        vertical-align: middle;\n",
       "    }\n",
       "\n",
       "    .dataframe tbody tr th {\n",
       "        vertical-align: top;\n",
       "    }\n",
       "\n",
       "    .dataframe thead th {\n",
       "        text-align: right;\n",
       "    }\n",
       "</style>\n",
       "<table border=\"1\" class=\"dataframe\">\n",
       "  <thead>\n",
       "    <tr style=\"text-align: right;\">\n",
       "      <th></th>\n",
       "      <th>연령</th>\n",
       "      <th>남녀</th>\n",
       "      <th>소속</th>\n",
       "    </tr>\n",
       "  </thead>\n",
       "  <tbody>\n",
       "    <tr>\n",
       "      <th>A</th>\n",
       "      <td>20</td>\n",
       "      <td>남</td>\n",
       "      <td>A</td>\n",
       "    </tr>\n",
       "    <tr>\n",
       "      <th>B</th>\n",
       "      <td>21</td>\n",
       "      <td>여</td>\n",
       "      <td>B</td>\n",
       "    </tr>\n",
       "    <tr>\n",
       "      <th>C</th>\n",
       "      <td>22</td>\n",
       "      <td>남</td>\n",
       "      <td>C</td>\n",
       "    </tr>\n",
       "  </tbody>\n",
       "</table>\n",
       "</div>"
      ]
     },
     "execution_count": 7,
     "metadata": {},
     "output_type": "execute_result"
    }
   ],
   "execution_count": 7
  },
  {
   "metadata": {},
   "cell_type": "markdown",
   "source": [
    "# 행/열 바꾸기\n",
    "* 행/열 바꾸기: DataFrame 객체.transpose() 또는 DataFrame 객체.T"
   ],
   "id": "80e32563ca996f8"
  },
  {
   "metadata": {
    "ExecuteTime": {
     "end_time": "2025-07-24T08:53:25.968415Z",
     "start_time": "2025-07-24T08:53:25.963098Z"
    }
   },
   "cell_type": "code",
   "source": [
    "import pandas as pd\n",
    "\n",
    "df = pd.DataFrame([[20, '남', 'A'], [21, '여', 'B'], [22, '남', 'C']], index=['a', 'b', 'c'], columns=['나이', '성별', '학교'])\n",
    "\n",
    "print(df)\n",
    "print(df.T)"
   ],
   "id": "2d51d1b87a385496",
   "outputs": [
    {
     "name": "stdout",
     "output_type": "stream",
     "text": [
      "   나이 성별 학교\n",
      "a  20  남  A\n",
      "b  21  여  B\n",
      "c  22  남  C\n",
      "     a   b   c\n",
      "나이  20  21  22\n",
      "성별   남   여   남\n",
      "학교   A   B   C\n"
     ]
    }
   ],
   "execution_count": 15
  },
  {
   "metadata": {},
   "cell_type": "markdown",
   "source": [
    "# 행/열 삭제하기\n",
    "* 행 삭제: DataFrame 객체.Drop(행 인덱스 또는 배열, axis = 0)\n",
    "* 열 삭제: DataFrame 객체.Drop(열 이름 또는 배열, axis = 1)"
   ],
   "id": "27ed90d6583ad81d"
  },
  {
   "metadata": {
    "ExecuteTime": {
     "end_time": "2025-07-24T08:41:52.391451Z",
     "start_time": "2025-07-24T08:41:52.385314Z"
    }
   },
   "cell_type": "code",
   "source": [
    "import pandas as pd\n",
    "\n",
    "df = pd.DataFrame([[20, '남', 'A'], [21, '여', 'B'], [22, '남', 'C']], index=['a', 'b', 'c'], columns=['나이', '성별', '학교'])\n",
    "\n",
    "df"
   ],
   "id": "7a73edfb3c0408a3",
   "outputs": [
    {
     "data": {
      "text/plain": [
       "   나이 성별 학교\n",
       "a  20  남  A\n",
       "b  21  여  B\n",
       "c  22  남  C"
      ],
      "text/html": [
       "<div>\n",
       "<style scoped>\n",
       "    .dataframe tbody tr th:only-of-type {\n",
       "        vertical-align: middle;\n",
       "    }\n",
       "\n",
       "    .dataframe tbody tr th {\n",
       "        vertical-align: top;\n",
       "    }\n",
       "\n",
       "    .dataframe thead th {\n",
       "        text-align: right;\n",
       "    }\n",
       "</style>\n",
       "<table border=\"1\" class=\"dataframe\">\n",
       "  <thead>\n",
       "    <tr style=\"text-align: right;\">\n",
       "      <th></th>\n",
       "      <th>나이</th>\n",
       "      <th>성별</th>\n",
       "      <th>학교</th>\n",
       "    </tr>\n",
       "  </thead>\n",
       "  <tbody>\n",
       "    <tr>\n",
       "      <th>a</th>\n",
       "      <td>20</td>\n",
       "      <td>남</td>\n",
       "      <td>A</td>\n",
       "    </tr>\n",
       "    <tr>\n",
       "      <th>b</th>\n",
       "      <td>21</td>\n",
       "      <td>여</td>\n",
       "      <td>B</td>\n",
       "    </tr>\n",
       "    <tr>\n",
       "      <th>c</th>\n",
       "      <td>22</td>\n",
       "      <td>남</td>\n",
       "      <td>C</td>\n",
       "    </tr>\n",
       "  </tbody>\n",
       "</table>\n",
       "</div>"
      ]
     },
     "execution_count": 9,
     "metadata": {},
     "output_type": "execute_result"
    }
   ],
   "execution_count": 9
  },
  {
   "metadata": {
    "ExecuteTime": {
     "end_time": "2025-07-24T08:42:52.930125Z",
     "start_time": "2025-07-24T08:42:52.924889Z"
    }
   },
   "cell_type": "code",
   "source": [
    "df2 = df.drop('b') # axis가 0일 때 생략 가능\n",
    "df2"
   ],
   "id": "b20e7c9bbbfdc956",
   "outputs": [
    {
     "data": {
      "text/plain": [
       "   나이 성별 학교\n",
       "a  20  남  A\n",
       "c  22  남  C"
      ],
      "text/html": [
       "<div>\n",
       "<style scoped>\n",
       "    .dataframe tbody tr th:only-of-type {\n",
       "        vertical-align: middle;\n",
       "    }\n",
       "\n",
       "    .dataframe tbody tr th {\n",
       "        vertical-align: top;\n",
       "    }\n",
       "\n",
       "    .dataframe thead th {\n",
       "        text-align: right;\n",
       "    }\n",
       "</style>\n",
       "<table border=\"1\" class=\"dataframe\">\n",
       "  <thead>\n",
       "    <tr style=\"text-align: right;\">\n",
       "      <th></th>\n",
       "      <th>나이</th>\n",
       "      <th>성별</th>\n",
       "      <th>학교</th>\n",
       "    </tr>\n",
       "  </thead>\n",
       "  <tbody>\n",
       "    <tr>\n",
       "      <th>a</th>\n",
       "      <td>20</td>\n",
       "      <td>남</td>\n",
       "      <td>A</td>\n",
       "    </tr>\n",
       "    <tr>\n",
       "      <th>c</th>\n",
       "      <td>22</td>\n",
       "      <td>남</td>\n",
       "      <td>C</td>\n",
       "    </tr>\n",
       "  </tbody>\n",
       "</table>\n",
       "</div>"
      ]
     },
     "execution_count": 10,
     "metadata": {},
     "output_type": "execute_result"
    }
   ],
   "execution_count": 10
  },
  {
   "metadata": {
    "ExecuteTime": {
     "end_time": "2025-07-24T08:43:10.386142Z",
     "start_time": "2025-07-24T08:43:10.382562Z"
    }
   },
   "cell_type": "code",
   "source": [
    "df3 = df.drop('학교', axis=1)\n",
    "df3"
   ],
   "id": "cbb853707f309cb0",
   "outputs": [
    {
     "data": {
      "text/plain": [
       "   나이 성별\n",
       "a  20  남\n",
       "b  21  여\n",
       "c  22  남"
      ],
      "text/html": [
       "<div>\n",
       "<style scoped>\n",
       "    .dataframe tbody tr th:only-of-type {\n",
       "        vertical-align: middle;\n",
       "    }\n",
       "\n",
       "    .dataframe tbody tr th {\n",
       "        vertical-align: top;\n",
       "    }\n",
       "\n",
       "    .dataframe thead th {\n",
       "        text-align: right;\n",
       "    }\n",
       "</style>\n",
       "<table border=\"1\" class=\"dataframe\">\n",
       "  <thead>\n",
       "    <tr style=\"text-align: right;\">\n",
       "      <th></th>\n",
       "      <th>나이</th>\n",
       "      <th>성별</th>\n",
       "    </tr>\n",
       "  </thead>\n",
       "  <tbody>\n",
       "    <tr>\n",
       "      <th>a</th>\n",
       "      <td>20</td>\n",
       "      <td>남</td>\n",
       "    </tr>\n",
       "    <tr>\n",
       "      <th>b</th>\n",
       "      <td>21</td>\n",
       "      <td>여</td>\n",
       "    </tr>\n",
       "    <tr>\n",
       "      <th>c</th>\n",
       "      <td>22</td>\n",
       "      <td>남</td>\n",
       "    </tr>\n",
       "  </tbody>\n",
       "</table>\n",
       "</div>"
      ]
     },
     "execution_count": 11,
     "metadata": {},
     "output_type": "execute_result"
    }
   ],
   "execution_count": 11
  },
  {
   "metadata": {},
   "cell_type": "markdown",
   "source": "# 행/열 선택하기",
   "id": "db5e108095e3b084"
  },
  {
   "metadata": {
    "ExecuteTime": {
     "end_time": "2025-07-24T08:46:50.270196Z",
     "start_time": "2025-07-24T08:46:50.267123Z"
    }
   },
   "cell_type": "code",
   "source": [
    "import pandas as pd\n",
    "\n",
    "df = pd.DataFrame([[20, '남', 'A'], [21, '여', 'B'], [22, '남', 'C']], index=['a', 'b', 'c'], columns=['나이', '성별', '학교'])\n",
    "\n",
    "label1 = df.loc['a']\n",
    "position = df.iloc[0]\n",
    "\n",
    "print(type(label1))\n",
    "print(label1)\n",
    "print(type(position))\n",
    "print(position)"
   ],
   "id": "27898998e8ac7b88",
   "outputs": [
    {
     "name": "stdout",
     "output_type": "stream",
     "text": [
      "<class 'pandas.core.series.Series'>\n",
      "나이    20\n",
      "성별     남\n",
      "학교     A\n",
      "Name: a, dtype: object\n",
      "<class 'pandas.core.series.Series'>\n",
      "나이    20\n",
      "성별     남\n",
      "학교     A\n",
      "Name: a, dtype: object\n"
     ]
    }
   ],
   "execution_count": 13
  },
  {
   "metadata": {
    "ExecuteTime": {
     "end_time": "2025-07-24T08:54:54.234953Z",
     "start_time": "2025-07-24T08:54:54.230542Z"
    }
   },
   "cell_type": "code",
   "source": [
    "import pandas as pd\n",
    "\n",
    "df = pd.DataFrame([[20, '남', 'A'], [21, '여', 'B'], [22, '남', 'C']], index=['a', 'b', 'c'], columns=['나이', '성별', '학교'])\n",
    "\n",
    "label1 = df['나이']\n",
    "position = df.나이\n",
    "\n",
    "print(type(label1))\n",
    "print(label1)\n",
    "print(type(position))\n",
    "print(position)"
   ],
   "id": "8c07f29a778e569c",
   "outputs": [
    {
     "name": "stdout",
     "output_type": "stream",
     "text": [
      "<class 'pandas.core.series.Series'>\n",
      "a    20\n",
      "b    21\n",
      "c    22\n",
      "Name: 나이, dtype: int64\n",
      "<class 'pandas.core.series.Series'>\n",
      "a    20\n",
      "b    21\n",
      "c    22\n",
      "Name: 나이, dtype: int64\n"
     ]
    }
   ],
   "execution_count": 16
  },
  {
   "metadata": {},
   "cell_type": "markdown",
   "source": [
    "# 행/열 추가하기\n",
    "* 행 추가: DataFrame 객체.Loc['새로운 행 이름'] = 데이터 값 (또는 배열)\n",
    "* 열 추가: DataFrame 객체.['추가하려는 열 이름'] = 데이터 값"
   ],
   "id": "f4341199bc981808"
  },
  {
   "metadata": {
    "ExecuteTime": {
     "end_time": "2025-07-24T08:57:54.372241Z",
     "start_time": "2025-07-24T08:57:54.367168Z"
    }
   },
   "cell_type": "code",
   "source": [
    "import pandas as pd\n",
    "\n",
    "df = pd.DataFrame([[20, '남', 'A'], [21, '여', 'B'], [22, '남', 'C']], index=['a', 'b', 'c'], columns=['나이', '성별', '학교'])\n",
    "\n",
    "df.loc['d'] = [22, '여', 'D']\n",
    "\n",
    "print(df)"
   ],
   "id": "71afd346016ce73",
   "outputs": [
    {
     "name": "stdout",
     "output_type": "stream",
     "text": [
      "   나이 성별 학교\n",
      "a  20  남  A\n",
      "b  21  여  B\n",
      "c  22  남  C\n",
      "d  22  여  D\n"
     ]
    }
   ],
   "execution_count": 18
  }
 ],
 "metadata": {
  "kernelspec": {
   "display_name": "Python 3",
   "language": "python",
   "name": "python3"
  },
  "language_info": {
   "codemirror_mode": {
    "name": "ipython",
    "version": 2
   },
   "file_extension": ".py",
   "mimetype": "text/x-python",
   "name": "python",
   "nbconvert_exporter": "python",
   "pygments_lexer": "ipython2",
   "version": "2.7.6"
  }
 },
 "nbformat": 4,
 "nbformat_minor": 5
}
