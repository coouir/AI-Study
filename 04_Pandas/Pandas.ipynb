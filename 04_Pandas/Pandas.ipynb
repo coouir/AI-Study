{
 "cells": [
  {
   "metadata": {},
   "cell_type": "markdown",
   "source": "## dict",
   "id": "5bdb10d4435548cb"
  },
  {
   "cell_type": "code",
   "id": "initial_id",
   "metadata": {
    "collapsed": true,
    "ExecuteTime": {
     "end_time": "2025-07-24T06:33:51.364171Z",
     "start_time": "2025-07-24T06:33:51.359598Z"
    }
   },
   "source": [
    "import pandas as pd\n",
    "\n",
    "dict_data = {'1st':[1, 2, 3], '2nd':[4, 5, 6], '3rd':[7, 8, 9]}\n",
    "df = pd.DataFrame(dict_data)\n",
    "\n",
    "print(type(df))\n",
    "print(df)"
   ],
   "outputs": [
    {
     "name": "stdout",
     "output_type": "stream",
     "text": [
      "<class 'pandas.core.frame.DataFrame'>\n",
      "   1st  2nd  3rd\n",
      "0    1    4    7\n",
      "1    2    5    8\n",
      "2    3    6    9\n"
     ]
    }
   ],
   "execution_count": 2
  },
  {
   "metadata": {},
   "cell_type": "markdown",
   "source": "## 리스트",
   "id": "598b26a9fdcf98d2"
  },
  {
   "metadata": {
    "ExecuteTime": {
     "end_time": "2025-07-24T06:37:29.922868Z",
     "start_time": "2025-07-24T06:37:29.918011Z"
    }
   },
   "cell_type": "code",
   "source": [
    "import pandas as pd\n",
    "\n",
    "df = pd.DataFrame([[20, '남', 'A'], [21, '여', 'B'], [22, '남', 'C']], index=['a', 'b', 'c'], columns=['나이', '성별', '학교'])\n",
    "print(df)\n",
    "print(df.index)\n",
    "print(df.columns)"
   ],
   "id": "abec288e56d7c923",
   "outputs": [
    {
     "name": "stdout",
     "output_type": "stream",
     "text": [
      "   나이 성별 학교\n",
      "a  20  남  A\n",
      "b  21  여  B\n",
      "c  22  남  C\n",
      "Index(['a', 'b', 'c'], dtype='object')\n",
      "Index(['나이', '성별', '학교'], dtype='object')\n"
     ]
    }
   ],
   "execution_count": 8
  },
  {
   "metadata": {},
   "cell_type": "markdown",
   "source": "## 엑셀",
   "id": "ae1faf96de5c77b5"
  },
  {
   "metadata": {
    "ExecuteTime": {
     "end_time": "2025-07-24T06:42:28.899359Z",
     "start_time": "2025-07-24T06:42:28.353700Z"
    }
   },
   "cell_type": "code",
   "source": [
    "import pandas as pd\n",
    "\n",
    "df1 = pd.read_excel('test.xlsx')\n",
    "df2 = pd.read_excel('test.xlsx', header = None)\n",
    "\n",
    "print(df1)\n",
    "print(df2)"
   ],
   "id": "dc5278adbc70bd28",
   "outputs": [
    {
     "name": "stdout",
     "output_type": "stream",
     "text": [
      "  Unnamed: 0  나이  성별 학교\n",
      "0          a   20  남  A\n",
      "1          b   21  여  B\n",
      "2          c   22  남  C\n",
      "     0    1   2   3\n",
      "0  NaN  나이   성별  학교\n",
      "1    a   20   남   A\n",
      "2    b   21   여   B\n",
      "3    c   22   남   C\n"
     ]
    }
   ],
   "execution_count": 10
  },
  {
   "metadata": {},
   "cell_type": "markdown",
   "source": "## csv",
   "id": "853a842c5e873da0"
  },
  {
   "metadata": {
    "ExecuteTime": {
     "end_time": "2025-07-24T06:45:38.482326Z",
     "start_time": "2025-07-24T06:45:38.476856Z"
    }
   },
   "cell_type": "code",
   "source": [
    "import pandas as pd\n",
    "\n",
    "df1 = pd.read_csv('test.csv')\n",
    "print(df1)"
   ],
   "id": "10bf1dc2b48510af",
   "outputs": [
    {
     "name": "stdout",
     "output_type": "stream",
     "text": [
      "  Unnamed: 0  나이  성별 학교\n",
      "0          a   20  남  A\n",
      "1          b   21  여  B\n",
      "2          c   22  남  C\n"
     ]
    }
   ],
   "execution_count": 11
  }
 ],
 "metadata": {
  "kernelspec": {
   "display_name": "Python 3",
   "language": "python",
   "name": "python3"
  },
  "language_info": {
   "codemirror_mode": {
    "name": "ipython",
    "version": 2
   },
   "file_extension": ".py",
   "mimetype": "text/x-python",
   "name": "python",
   "nbconvert_exporter": "python",
   "pygments_lexer": "ipython2",
   "version": "2.7.6"
  }
 },
 "nbformat": 4,
 "nbformat_minor": 5
}
