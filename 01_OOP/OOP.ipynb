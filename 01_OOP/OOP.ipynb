{
 "cells": [
  {
   "metadata": {},
   "cell_type": "markdown",
   "source": [
    "# 객체 지향 프로그래밍\n",
    "* 객체 지향: 기능 중심 메소드 구현\n",
    "* 절차 지향: 데이터 중심 함수 구현\n",
    "* 속성(Attribute): 객체에 연결된 값\n",
    "* 메서드(Method): 호출될 때 객체에 대해 특정 연산을 수행하는 함수"
   ],
   "id": "60731265234899c2"
  },
  {
   "metadata": {},
   "cell_type": "markdown",
   "source": [
    "## 클래스\n",
    "* 필드: 속성 + 메서#\n",
    "* 속성: 클래스에 포함되는 변수\n",
    "* 메서드: 클래스에 포함되는 함수"
   ],
   "id": "43ca5e2f23335e6a"
  },
  {
   "metadata": {},
   "cell_type": "markdown",
   "source": "### Class 정의 및 객체 생성\n",
   "id": "98f522f0bd5e60b2"
  },
  {
   "metadata": {
    "ExecuteTime": {
     "end_time": "2025-07-24T02:43:54.441528Z",
     "start_time": "2025-07-24T02:43:54.438593Z"
    }
   },
   "cell_type": "code",
   "source": [
    "# Class 정의\n",
    "class Person:\n",
    "    pass\n",
    "\n",
    "# 객체 생성\n",
    "p = Person()\n",
    "print(p)"
   ],
   "id": "4bc9f17dfb232521",
   "outputs": [
    {
     "name": "stdout",
     "output_type": "stream",
     "text": [
      "<__main__.Person object at 0x1074ffd40>\n"
     ]
    }
   ],
   "execution_count": 1
  },
  {
   "metadata": {},
   "cell_type": "markdown",
   "source": "### 메서드, 첫번째 입력값은 무조건 self",
   "id": "cde13f27cf40d90b"
  },
  {
   "metadata": {
    "ExecuteTime": {
     "end_time": "2025-07-24T02:46:24.891686Z",
     "start_time": "2025-07-24T02:46:24.889196Z"
    }
   },
   "cell_type": "code",
   "source": [
    "class Person:\n",
    "    def say_hi(self):\n",
    "        print(\"Hi~\")\n",
    "\n",
    "p = Person()\n",
    "p.say_hi()"
   ],
   "id": "ff9c65b1410bbf4e",
   "outputs": [
    {
     "name": "stdout",
     "output_type": "stream",
     "text": [
      "Hi~\n"
     ]
    }
   ],
   "execution_count": 2
  },
  {
   "metadata": {},
   "cell_type": "markdown",
   "source": [
    "### 초기화 메서드: 객체가 형성되는 순간 실행\n",
    "=> 속성값을 정의할 때 많이 사용됨."
   ],
   "id": "9e7a0a3705da853"
  },
  {
   "metadata": {
    "ExecuteTime": {
     "end_time": "2025-07-24T03:32:30.663941Z",
     "start_time": "2025-07-24T03:32:30.660975Z"
    }
   },
   "cell_type": "code",
   "source": [
    "class Person:\n",
    "    def __init__(self, name):\n",
    "        self.name = name # self.name은 속성 변수\n",
    "\n",
    "    def say_hi(self):\n",
    "        print(\"Hi~ my name is\", self.name)\n",
    "\n",
    "p = Person(\"Yoon\")\n",
    "p.say_hi()"
   ],
   "id": "27533f248e93d2cb",
   "outputs": [
    {
     "name": "stdout",
     "output_type": "stream",
     "text": [
      "Hi~ my name is Yoon\n"
     ]
    }
   ],
   "execution_count": 6
  },
  {
   "metadata": {
    "ExecuteTime": {
     "end_time": "2025-07-24T03:33:05.187733Z",
     "start_time": "2025-07-24T03:33:05.185038Z"
    }
   },
   "cell_type": "code",
   "source": [
    "class Person:\n",
    "    def __init__(self, name, id):\n",
    "        self.name = name\n",
    "        self.id = id\n",
    "\n",
    "    def set_age(self, age):\n",
    "        self.age = age\n",
    "\n",
    "p = Person(\"Yoon\", 1)"
   ],
   "id": "87729a3e1990ae8a",
   "outputs": [],
   "execution_count": 7
  },
  {
   "metadata": {
    "ExecuteTime": {
     "end_time": "2025-07-24T03:33:13.162077Z",
     "start_time": "2025-07-24T03:33:13.159296Z"
    }
   },
   "cell_type": "code",
   "source": "p.name",
   "id": "2cadf61a1bb044fa",
   "outputs": [
    {
     "data": {
      "text/plain": [
       "'Yoon'"
      ]
     },
     "execution_count": 9,
     "metadata": {},
     "output_type": "execute_result"
    }
   ],
   "execution_count": 9
  },
  {
   "metadata": {
    "ExecuteTime": {
     "end_time": "2025-07-24T03:33:16.569965Z",
     "start_time": "2025-07-24T03:33:16.566719Z"
    }
   },
   "cell_type": "code",
   "source": "p.id",
   "id": "341937a5e0a0753e",
   "outputs": [
    {
     "data": {
      "text/plain": [
       "1"
      ]
     },
     "execution_count": 10,
     "metadata": {},
     "output_type": "execute_result"
    }
   ],
   "execution_count": 10
  },
  {
   "metadata": {
    "ExecuteTime": {
     "end_time": "2025-07-24T03:33:18.590076Z",
     "start_time": "2025-07-24T03:33:18.580972Z"
    }
   },
   "cell_type": "code",
   "source": "p.age",
   "id": "40202d6804d0032c",
   "outputs": [
    {
     "ename": "AttributeError",
     "evalue": "'Person' object has no attribute 'age'",
     "output_type": "error",
     "traceback": [
      "\u001B[0;31m---------------------------------------------------------------------------\u001B[0m",
      "\u001B[0;31mAttributeError\u001B[0m                            Traceback (most recent call last)",
      "Cell \u001B[0;32mIn[11], line 1\u001B[0m\n\u001B[0;32m----> 1\u001B[0m p\u001B[38;5;241m.\u001B[39mage\n",
      "\u001B[0;31mAttributeError\u001B[0m: 'Person' object has no attribute 'age'"
     ]
    }
   ],
   "execution_count": 11
  },
  {
   "metadata": {
    "ExecuteTime": {
     "end_time": "2025-07-24T03:33:33.518167Z",
     "start_time": "2025-07-24T03:33:33.515850Z"
    }
   },
   "cell_type": "code",
   "source": "p.set_age(22)",
   "id": "ec1b1ac1698ee7fb",
   "outputs": [],
   "execution_count": 12
  },
  {
   "metadata": {
    "ExecuteTime": {
     "end_time": "2025-07-24T03:33:36.594770Z",
     "start_time": "2025-07-24T03:33:36.592160Z"
    }
   },
   "cell_type": "code",
   "source": "p.age",
   "id": "1d99658be3271bd4",
   "outputs": [
    {
     "data": {
      "text/plain": [
       "22"
      ]
     },
     "execution_count": 13,
     "metadata": {},
     "output_type": "execute_result"
    }
   ],
   "execution_count": 13
  }
 ],
 "metadata": {
  "kernelspec": {
   "display_name": "Python 3",
   "language": "python",
   "name": "python3"
  },
  "language_info": {
   "codemirror_mode": {
    "name": "ipython",
    "version": 2
   },
   "file_extension": ".py",
   "mimetype": "text/x-python",
   "name": "python",
   "nbconvert_exporter": "python",
   "pygments_lexer": "ipython2",
   "version": "2.7.6"
  }
 },
 "nbformat": 4,
 "nbformat_minor": 5
}
