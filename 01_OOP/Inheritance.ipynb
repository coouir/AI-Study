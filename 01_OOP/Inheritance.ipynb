{
 "cells": [
  {
   "cell_type": "code",
   "id": "initial_id",
   "metadata": {
    "collapsed": true,
    "ExecuteTime": {
     "end_time": "2025-07-24T03:42:49.295960Z",
     "start_time": "2025-07-24T03:42:49.293348Z"
    }
   },
   "source": [
    "class Person:\n",
    "    def __init__(self, name, number):\n",
    "        self.name = name\n",
    "        self.number = number\n",
    "\n",
    "    def printinfo(self):\n",
    "        print(self.name, self.number)\n",
    "\n",
    "    def printpersondata(self):\n",
    "        print(self.name)\n",
    "        print(self.number)"
   ],
   "outputs": [],
   "execution_count": 1
  },
  {
   "metadata": {
    "ExecuteTime": {
     "end_time": "2025-07-24T03:45:38.346990Z",
     "start_time": "2025-07-24T03:45:38.343849Z"
    }
   },
   "cell_type": "code",
   "source": [
    "class student(Person):\n",
    "    def __init__(self, name, number, subject, studentID):\n",
    "        self.name = name\n",
    "        self.number = number\n",
    "        self.subject = subject\n",
    "        self.studentID = studentID"
   ],
   "id": "368480937ad77eb2",
   "outputs": [],
   "execution_count": 5
  },
  {
   "metadata": {
    "ExecuteTime": {
     "end_time": "2025-07-24T03:45:38.779370Z",
     "start_time": "2025-07-24T03:45:38.776710Z"
    }
   },
   "cell_type": "code",
   "source": [
    "a = student(\"Yoon\", 1, \"Math\", 5)\n",
    "a.printinfo()"
   ],
   "id": "1ab7e873dd4b9294",
   "outputs": [
    {
     "name": "stdout",
     "output_type": "stream",
     "text": [
      "Yoon 1\n"
     ]
    }
   ],
   "execution_count": 6
  },
  {
   "metadata": {
    "ExecuteTime": {
     "end_time": "2025-07-24T03:45:39.203293Z",
     "start_time": "2025-07-24T03:45:39.200983Z"
    }
   },
   "cell_type": "code",
   "source": "a.printpersondata()",
   "id": "483705834fb08efd",
   "outputs": [
    {
     "name": "stdout",
     "output_type": "stream",
     "text": [
      "Yoon\n",
      "1\n"
     ]
    }
   ],
   "execution_count": 7
  }
 ],
 "metadata": {
  "kernelspec": {
   "display_name": "Python 3",
   "language": "python",
   "name": "python3"
  },
  "language_info": {
   "codemirror_mode": {
    "name": "ipython",
    "version": 2
   },
   "file_extension": ".py",
   "mimetype": "text/x-python",
   "name": "python",
   "nbconvert_exporter": "python",
   "pygments_lexer": "ipython2",
   "version": "2.7.6"
  }
 },
 "nbformat": 4,
 "nbformat_minor": 5
}
