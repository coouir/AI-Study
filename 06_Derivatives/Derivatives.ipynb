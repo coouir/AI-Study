{
 "cells": [
  {
   "metadata": {},
   "cell_type": "markdown",
   "source": "# Derivatives (미분)",
   "id": "4d01b98e86c0f88a"
  },
  {
   "metadata": {
    "ExecuteTime": {
     "end_time": "2025-07-24T11:49:46.427781Z",
     "start_time": "2025-07-24T11:49:46.423301Z"
    }
   },
   "cell_type": "code",
   "source": [
    "def f(x):\n",
    "    return 3 * x ** 2 - 4 * x\n",
    "\n",
    "def numerical_lim(f, x, h):\n",
    "    return (f(x+h) - f(x))/h\n",
    "\n",
    "h = 0.1\n",
    "for i in range(5):\n",
    "    print(f\"h={h:.5f}, numerical_limit={numerical_lim(f, 1, h)}:.5f\")\n",
    "    h *= 0.1"
   ],
   "id": "929dac5d694e43d2",
   "outputs": [
    {
     "name": "stdout",
     "output_type": "stream",
     "text": [
      "h=0.10000, numerical_limit=2.3000000000000043:.5f\n",
      "h=0.01000, numerical_limit=2.029999999999976:.5f\n",
      "h=0.00100, numerical_limit=2.0029999999993104:.5f\n",
      "h=0.00010, numerical_limit=2.000299999997956:.5f\n",
      "h=0.00001, numerical_limit=2.0000300000155837:.5f\n"
     ]
    }
   ],
   "execution_count": 3
  },
  {
   "metadata": {},
   "cell_type": "code",
   "outputs": [],
   "execution_count": null,
   "source": "",
   "id": "70deebb9226f4aad"
  }
 ],
 "metadata": {
  "kernelspec": {
   "display_name": "Python 3",
   "language": "python",
   "name": "python3"
  },
  "language_info": {
   "codemirror_mode": {
    "name": "ipython",
    "version": 2
   },
   "file_extension": ".py",
   "mimetype": "text/x-python",
   "name": "python",
   "nbconvert_exporter": "python",
   "pygments_lexer": "ipython2",
   "version": "2.7.6"
  }
 },
 "nbformat": 4,
 "nbformat_minor": 5
}
