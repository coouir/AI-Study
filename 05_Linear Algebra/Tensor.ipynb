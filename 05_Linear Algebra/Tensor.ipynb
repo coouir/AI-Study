{
 "cells": [
  {
   "metadata": {},
   "cell_type": "markdown",
   "source": [
    "# Tensor\n",
    "Rank 3 이상의 숫자"
   ],
   "id": "bd0d803e98cdbddd"
  },
  {
   "cell_type": "code",
   "id": "initial_id",
   "metadata": {
    "collapsed": true,
    "ExecuteTime": {
     "end_time": "2025-07-24T11:08:15.196206Z",
     "start_time": "2025-07-24T11:08:15.134364Z"
    }
   },
   "source": [
    "import numpy as np\n",
    "\n",
    "x = np.arange(24).reshape(2,3,4)\n",
    "print(x)"
   ],
   "outputs": [
    {
     "name": "stdout",
     "output_type": "stream",
     "text": [
      "[[[ 0  1  2  3]\n",
      "  [ 4  5  6  7]\n",
      "  [ 8  9 10 11]]\n",
      "\n",
      " [[12 13 14 15]\n",
      "  [16 17 18 19]\n",
      "  [20 21 22 23]]]\n"
     ]
    }
   ],
   "execution_count": 1
  },
  {
   "metadata": {},
   "cell_type": "markdown",
   "source": [
    "## einsum:\n",
    "np.einsum('index', ndarray)\n",
    "특정 index의 집합에 대한 합 연산을 간결하게 표시하는 방법"
   ],
   "id": "1888e52e7c8fde45"
  },
  {
   "metadata": {
    "ExecuteTime": {
     "end_time": "2025-07-24T11:18:30.268595Z",
     "start_time": "2025-07-24T11:18:30.263876Z"
    }
   },
   "cell_type": "code",
   "source": [
    "a = np.arange(60).reshape(3, 4, 5)\n",
    "b = np.arange(24).reshape(4, 3, 2)\n",
    "np.einsum('ijk,jil->kl', a, b)"
   ],
   "id": "1280f90d218e1902",
   "outputs": [
    {
     "data": {
      "text/plain": [
       "array([[4400, 4730],\n",
       "       [4532, 4874],\n",
       "       [4664, 5018],\n",
       "       [4796, 5162],\n",
       "       [4928, 5306]])"
      ]
     },
     "execution_count": 5,
     "metadata": {},
     "output_type": "execute_result"
    }
   ],
   "execution_count": 5
  },
  {
   "metadata": {},
   "cell_type": "code",
   "outputs": [],
   "execution_count": null,
   "source": "",
   "id": "e4be3223a4979da9"
  }
 ],
 "metadata": {
  "kernelspec": {
   "display_name": "Python 3",
   "language": "python",
   "name": "python3"
  },
  "language_info": {
   "codemirror_mode": {
    "name": "ipython",
    "version": 2
   },
   "file_extension": ".py",
   "mimetype": "text/x-python",
   "name": "python",
   "nbconvert_exporter": "python",
   "pygments_lexer": "ipython2",
   "version": "2.7.6"
  }
 },
 "nbformat": 4,
 "nbformat_minor": 5
}
