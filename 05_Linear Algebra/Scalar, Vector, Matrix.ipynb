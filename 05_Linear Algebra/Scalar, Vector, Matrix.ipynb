{
 "cells": [
  {
   "metadata": {},
   "cell_type": "markdown",
   "source": [
    "# Scalars\n",
    "* 숫자 한 개 - rank 0"
   ],
   "id": "bf363beb3aa556be"
  },
  {
   "cell_type": "code",
   "id": "initial_id",
   "metadata": {
    "collapsed": true,
    "ExecuteTime": {
     "end_time": "2025-07-24T09:13:35.958986Z",
     "start_time": "2025-07-24T09:13:35.912625Z"
    }
   },
   "source": [
    "import numpy as np\n",
    "\n",
    "x = np.array(3.0)\n",
    "y = np.array(2.0)\n",
    "\n",
    "print(x+y)\n",
    "print(x-y)\n",
    "print(x*y)\n",
    "print(x/y)\n",
    "print(x%y)\n",
    "print(x**y)"
   ],
   "outputs": [
    {
     "name": "stdout",
     "output_type": "stream",
     "text": [
      "5.0\n",
      "1.0\n",
      "6.0\n",
      "1.5\n",
      "1.0\n",
      "9.0\n"
     ]
    }
   ],
   "execution_count": 1
  },
  {
   "metadata": {},
   "cell_type": "markdown",
   "source": [
    "# Vectors\n",
    "* 숫자 여러 개 - rank 1\n",
    "* 차원 = vector의 숫자 개수"
   ],
   "id": "7b24aa59a0b99e6d"
  },
  {
   "metadata": {
    "ExecuteTime": {
     "end_time": "2025-07-24T09:15:25.727962Z",
     "start_time": "2025-07-24T09:15:25.724238Z"
    }
   },
   "cell_type": "code",
   "source": [
    "import numpy as np\n",
    "\n",
    "x = np.arange(10)\n",
    "\n",
    "print(len(x))\n",
    "print(x.shape)"
   ],
   "id": "74cf125048f42e81",
   "outputs": [
    {
     "name": "stdout",
     "output_type": "stream",
     "text": [
      "10\n",
      "(10,)\n"
     ]
    }
   ],
   "execution_count": 2
  },
  {
   "metadata": {},
   "cell_type": "markdown",
   "source": [
    "# Matrices\n",
    "* 행과 열로 이루어진 숫자 - rank 2"
   ],
   "id": "d95e051ca4995d48"
  },
  {
   "metadata": {
    "ExecuteTime": {
     "end_time": "2025-07-24T09:20:03.128863Z",
     "start_time": "2025-07-24T09:20:03.125991Z"
    }
   },
   "cell_type": "code",
   "source": [
    "a = np.arange(20).reshape(5, 4)\n",
    "print(a)"
   ],
   "id": "9dd25ea1c06b0ad3",
   "outputs": [
    {
     "name": "stdout",
     "output_type": "stream",
     "text": [
      "[[ 0  1  2  3]\n",
      " [ 4  5  6  7]\n",
      " [ 8  9 10 11]\n",
      " [12 13 14 15]\n",
      " [16 17 18 19]]\n"
     ]
    }
   ],
   "execution_count": 5
  },
  {
   "metadata": {},
   "cell_type": "markdown",
   "source": "## transpose: 행과 열 바꾸기, 전치",
   "id": "459e49fee5a6bde4"
  },
  {
   "metadata": {
    "ExecuteTime": {
     "end_time": "2025-07-24T09:20:56.584705Z",
     "start_time": "2025-07-24T09:20:56.581423Z"
    }
   },
   "cell_type": "code",
   "source": "print(a.T)",
   "id": "d360c18b57bb1746",
   "outputs": [
    {
     "name": "stdout",
     "output_type": "stream",
     "text": [
      "[[ 0  4  8 12 16]\n",
      " [ 1  5  9 13 17]\n",
      " [ 2  6 10 14 18]\n",
      " [ 3  7 11 15 19]]\n"
     ]
    }
   ],
   "execution_count": 6
  },
  {
   "metadata": {},
   "cell_type": "markdown",
   "source": [
    "## Symmetric Matrix (대칭행렬)\n",
    "$A = A^T$"
   ],
   "id": "aff24ef3170eafc9"
  },
  {
   "metadata": {
    "ExecuteTime": {
     "end_time": "2025-07-24T09:23:42.526603Z",
     "start_time": "2025-07-24T09:23:42.524365Z"
    }
   },
   "cell_type": "code",
   "source": [
    "b = np.array([[1, 2, 3], [2, 0, 4], [3, 4, 5]])\n",
    "print(b)"
   ],
   "id": "7fbaf0ef0984aa36",
   "outputs": [
    {
     "name": "stdout",
     "output_type": "stream",
     "text": [
      "[[1 2 3]\n",
      " [2 0 4]\n",
      " [3 4 5]]\n"
     ]
    }
   ],
   "execution_count": 7
  },
  {
   "metadata": {
    "ExecuteTime": {
     "end_time": "2025-07-24T09:25:17.304744Z",
     "start_time": "2025-07-24T09:25:17.302610Z"
    }
   },
   "cell_type": "code",
   "source": "print(b == b.T)",
   "id": "dd8b8a7e93b7b785",
   "outputs": [
    {
     "name": "stdout",
     "output_type": "stream",
     "text": [
      "[[ True  True  True]\n",
      " [ True  True  True]\n",
      " [ True  True  True]]\n"
     ]
    }
   ],
   "execution_count": 9
  },
  {
   "metadata": {},
   "cell_type": "markdown",
   "source": [
    "## Matrix Multiplication (행렬 곱)\n",
    "* dot: 벡터 내적, 행렬곱 함수"
   ],
   "id": "2c8afe0b4edc39ea"
  },
  {
   "metadata": {
    "ExecuteTime": {
     "end_time": "2025-07-24T09:30:10.193252Z",
     "start_time": "2025-07-24T09:30:10.189545Z"
    }
   },
   "cell_type": "code",
   "source": [
    "import numpy as np\n",
    "\n",
    "a = np.array([[1, 2], [3, 4]])\n",
    "b = np.array([[1, 0], [0, 1]])\n",
    "\n",
    "print(a)\n",
    "print(b)\n",
    "print(np.dot(a, b))"
   ],
   "id": "7370f6a59e29a801",
   "outputs": [
    {
     "name": "stdout",
     "output_type": "stream",
     "text": [
      "[[1 2]\n",
      " [3 4]]\n",
      "[[1 0]\n",
      " [0 1]]\n",
      "[[1 2]\n",
      " [3 4]]\n"
     ]
    }
   ],
   "execution_count": 14
  },
  {
   "metadata": {},
   "cell_type": "code",
   "outputs": [],
   "execution_count": null,
   "source": "",
   "id": "991c7cff21db6004"
  }
 ],
 "metadata": {
  "kernelspec": {
   "display_name": "Python 3",
   "language": "python",
   "name": "python3"
  },
  "language_info": {
   "codemirror_mode": {
    "name": "ipython",
    "version": 2
   },
   "file_extension": ".py",
   "mimetype": "text/x-python",
   "name": "python",
   "nbconvert_exporter": "python",
   "pygments_lexer": "ipython2",
   "version": "2.7.6"
  }
 },
 "nbformat": 4,
 "nbformat_minor": 5
}
